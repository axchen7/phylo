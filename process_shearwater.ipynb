{
 "cells": [
  {
   "cell_type": "code",
   "execution_count": null,
   "metadata": {},
   "outputs": [],
   "source": [
    "NUM_SITES_TO_USE = 500"
   ]
  },
  {
   "cell_type": "code",
   "execution_count": null,
   "metadata": {},
   "outputs": [],
   "source": [
    "import pandas as pd\n",
    "from tqdm import tqdm"
   ]
  },
  {
   "cell_type": "code",
   "execution_count": null,
   "metadata": {},
   "outputs": [],
   "source": [
    "df = pd.read_csv(\"data/raw/Shearwater_calls_FDR0.95_all_muts.txt\", sep=\"\\t\")"
   ]
  },
  {
   "cell_type": "code",
   "execution_count": null,
   "metadata": {},
   "outputs": [],
   "source": [
    "samples = df.columns[4:-1]\n",
    "\n",
    "# S = len(df)\n",
    "S = NUM_SITES_TO_USE\n",
    "N = len(samples)\n",
    "\n",
    "ref = df[\"REF\"]\n",
    "alt = df[\"ALT\"]\n",
    "\n",
    "with open(\"./data/cellphy_shearwater_set.phy\", \"w\") as f:\n",
    "    f.write(f\"{N+1} {S}\\n\")  # +1 for healthy\n",
    "\n",
    "    healthy = \"\".join(ref[:S])\n",
    "    f.write(f\"Healthy    {healthy}\\n\")\n",
    "\n",
    "    for i in tqdm(range(N)):\n",
    "        sample = samples[i]\n",
    "        seq = \"\"\n",
    "        for i in range(S):\n",
    "            if df[sample][i] == 1:\n",
    "                seq += alt[i]\n",
    "            elif df[sample][i] == 0:\n",
    "                seq += ref[i]\n",
    "            else:  # NA\n",
    "                seq += \"N\"\n",
    "        f.write(f\"{sample}    {seq}\\n\")"
   ]
  }
 ],
 "metadata": {
  "kernelspec": {
   "display_name": "env",
   "language": "python",
   "name": "python3"
  },
  "language_info": {
   "codemirror_mode": {
    "name": "ipython",
    "version": 3
   },
   "file_extension": ".py",
   "mimetype": "text/x-python",
   "name": "python",
   "nbconvert_exporter": "python",
   "pygments_lexer": "ipython3",
   "version": "3.11.7"
  }
 },
 "nbformat": 4,
 "nbformat_minor": 2
}
