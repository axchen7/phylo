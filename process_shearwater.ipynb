{
 "cells": [
  {
   "cell_type": "code",
   "execution_count": 20,
   "metadata": {},
   "outputs": [],
   "source": [
    "NUM_SITES_TO_USE = 500"
   ]
  },
  {
   "cell_type": "code",
   "execution_count": 21,
   "metadata": {},
   "outputs": [],
   "source": [
    "import pandas as pd\n",
    "from tqdm import tqdm"
   ]
  },
  {
   "cell_type": "code",
   "execution_count": 22,
   "metadata": {},
   "outputs": [
    {
     "name": "stderr",
     "output_type": "stream",
     "text": [
      "/var/folders/wg/fdc2whdj45nbl0l947cp4bzh0000gn/T/ipykernel_5444/93878028.py:1: DtypeWarning: Columns (0) have mixed types. Specify dtype option on import or set low_memory=False.\n",
      "  df = pd.read_csv(\"data/raw/Shearwater_calls_FDR0.95_all_muts.txt\", sep=\"\\t\")\n"
     ]
    }
   ],
   "source": [
    "df = pd.read_csv(\"data/raw/Shearwater_calls_FDR0.95_all_muts.txt\", sep=\"\\t\")"
   ]
  },
  {
   "cell_type": "code",
   "execution_count": 25,
   "metadata": {},
   "outputs": [
    {
     "name": "stderr",
     "output_type": "stream",
     "text": [
      "100%|██████████| 140/140 [00:00<00:00, 745.69it/s]\n"
     ]
    }
   ],
   "source": [
    "samples = df.columns[4:-1]\n",
    "\n",
    "# S = len(df)\n",
    "S = NUM_SITES_TO_USE\n",
    "N = len(samples)\n",
    "\n",
    "ref = df[\"REF\"]\n",
    "alt = df[\"ALT\"]\n",
    "\n",
    "with open(\"./data/shearwater.phy\", \"w\") as f:\n",
    "    f.write(f\"{N+1} {S}\\n\")  # +1 for healthy\n",
    "\n",
    "    healthy = \"\".join(ref[:S])\n",
    "    f.write(f\"Healthy    {healthy}\\n\")\n",
    "\n",
    "    for i in tqdm(range(N)):\n",
    "        sample = samples[i]\n",
    "        seq = \"\".join([str(alt[i] if df[sample][i] == 1 else ref[i]) for i in range(S)])\n",
    "        f.write(f\"{sample}    {seq}\\n\")"
   ]
  }
 ],
 "metadata": {
  "kernelspec": {
   "display_name": "env",
   "language": "python",
   "name": "python3"
  },
  "language_info": {
   "codemirror_mode": {
    "name": "ipython",
    "version": 3
   },
   "file_extension": ".py",
   "mimetype": "text/x-python",
   "name": "python",
   "nbconvert_exporter": "python",
   "pygments_lexer": "ipython3",
   "version": "3.11.7"
  }
 },
 "nbformat": 4,
 "nbformat_minor": 2
}
